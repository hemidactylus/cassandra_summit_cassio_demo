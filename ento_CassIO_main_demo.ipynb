{
 "cells": [
  {
   "cell_type": "markdown",
   "id": "b35e45de-e0a5-4ca1-9b04-b40f38c0d8ef",
   "metadata": {},
   "source": [
    "# CassIO main RAG demo - C*Summit 2023"
   ]
  },
  {
   "cell_type": "markdown",
   "id": "462f9f60-9309-4c28-a1eb-caf71a0bcd30",
   "metadata": {},
   "source": [
    "Contents:\n",
    "1. setup\n",
    "2. create vector store with CassIO\n",
    "3. populate store\n",
    "4. vector search\n",
    "5. RAG\n",
    "6. cleanup\n",
    "\n",
    "Prerequisites:\n",
    "- OpenAI API Key\n",
    "- docker installed\n",
    "- Python 3.8+"
   ]
  },
  {
   "cell_type": "markdown",
   "id": "6dc6d76a-a1b1-45c8-bfe0-618b20f90789",
   "metadata": {},
   "source": [
    "## 1. Setup"
   ]
  },
  {
   "cell_type": "markdown",
   "id": "e20d7fb0-96a3-46df-917d-b8dd7fe90eea",
   "metadata": {},
   "source": [
    "### Setup A - start Cassandra\n",
    "\n",
    "In a terminal/console, launch `docker run --name my-cassandra -d cassandra:5.0-alpha2`, wait a couple of minutes.\n",
    "\n",
    "Verify status with `docker exec -it my-cassandra  nodetool status` (wait until getting `UN ...` in output).\n",
    "\n",
    "Get contact point with `docker inspect my-cassandra | jq -r '.[].NetworkSettings.Networks.bridge.IPAddress'`:"
   ]
  },
  {
   "cell_type": "code",
   "execution_count": null,
   "id": "b5536104-128d-4d88-b566-216c364ac993",
   "metadata": {},
   "outputs": [],
   "source": [
    "! docker inspect my-cassandra | jq -r '.[].NetworkSettings.Networks.bridge.IPAddress'"
   ]
  },
  {
   "cell_type": "markdown",
   "id": "ef330593-e09f-4520-a00a-76b33d903e6a",
   "metadata": {},
   "source": [
    "Then adjust and execute this cell:"
   ]
  },
  {
   "cell_type": "code",
   "execution_count": null,
   "id": "6b3f0a41-4f1e-41b1-94e2-38d3f0c0c218",
   "metadata": {},
   "outputs": [],
   "source": [
    "CONTACT_POINT = \"172.17.0.2\""
   ]
  },
  {
   "cell_type": "markdown",
   "id": "f7c859cd-e73f-4ce9-a065-e808facc22df",
   "metadata": {},
   "source": [
    "### Setup B: dependencies"
   ]
  },
  {
   "cell_type": "code",
   "execution_count": null,
   "id": "127f597c-be5e-494f-b8f9-8663c7c11761",
   "metadata": {},
   "outputs": [],
   "source": [
    "!pip install --quiet \"cassio>=0.1.3\" \"openai>=1.0.0\" datasets"
   ]
  },
  {
   "cell_type": "markdown",
   "id": "45254f4c-6392-4ceb-b868-f00edc889bc6",
   "metadata": {},
   "source": [
    "### Setup C: provision DB & create session"
   ]
  },
  {
   "cell_type": "code",
   "execution_count": null,
   "id": "a563e43d-4e6c-4aac-b01d-7fddc728fd56",
   "metadata": {},
   "outputs": [],
   "source": [
    "from cassandra.cluster import Cluster\n",
    "\n",
    "cluster = Cluster([CONTACT_POINT])\n",
    "session = cluster.connect()\n",
    "\n",
    "KEYSPACE = \"cassio_demo\"\n",
    "\n",
    "session.execute(\n",
    "    f\"CREATE KEYSPACE IF NOT EXISTS {KEYSPACE} WITH REPLICATION = {{'class': 'SimpleStrategy', 'replication_factor': 1}};\"\n",
    ")"
   ]
  },
  {
   "cell_type": "markdown",
   "id": "d6f54f62-1be8-414f-8a94-6ae98dcf7345",
   "metadata": {},
   "source": [
    "### Setup D: global CassIO init"
   ]
  },
  {
   "cell_type": "code",
   "execution_count": null,
   "id": "bc9a6b6a-a22d-42b4-9952-9d2bc6301b8c",
   "metadata": {},
   "outputs": [],
   "source": [
    "import cassio\n",
    "\n",
    "cassio.init(session=session, keyspace=KEYSPACE)"
   ]
  },
  {
   "cell_type": "markdown",
   "id": "86182bec-9d49-4166-ad22-6512285529c9",
   "metadata": {},
   "source": [
    "### Setup E: OpenAI"
   ]
  },
  {
   "cell_type": "code",
   "execution_count": null,
   "id": "1a59dd3b-a4b6-4072-bcbc-9f0bd8b47553",
   "metadata": {},
   "outputs": [],
   "source": [
    "import os\n",
    "from getpass import getpass\n",
    "\n",
    "if not os.environ.get(\"OPENAI_API_KEY\"):\n",
    "    os.environ[\"OPENAI_API_KEY\"] = getpass(\"Please enter your OpenAI API Key: \")"
   ]
  },
  {
   "cell_type": "code",
   "execution_count": null,
   "id": "2295afba-79c3-4abd-8fef-a57832616b7d",
   "metadata": {},
   "outputs": [],
   "source": [
    "import openai\n",
    "\n",
    "openai_client = openai.OpenAI(api_key=os.environ[\"OPENAI_API_KEY\"])\n",
    "embedding_model_name = \"text-embedding-ada-002\""
   ]
  },
  {
   "cell_type": "markdown",
   "id": "a2157efa-11e9-4a7e-a719-fae7235e232c",
   "metadata": {},
   "source": [
    "## 2. Create vector store"
   ]
  },
  {
   "cell_type": "code",
   "execution_count": null,
   "id": "67f02d03-726f-4a85-87e2-03350f72cf68",
   "metadata": {},
   "outputs": [],
   "source": [
    "cassio_v_store = cassio.table.MetadataVectorCassandraTable(\n",
    "    table=\"cassio_demo\",\n",
    "    vector_dimension=1536,\n",
    ")"
   ]
  },
  {
   "cell_type": "markdown",
   "id": "78344cfa-fd1a-47c1-80cd-ce50bab0ac2f",
   "metadata": {},
   "source": [
    "## 3. Populate store"
   ]
  },
  {
   "cell_type": "code",
   "execution_count": null,
   "id": "c3e2e6d3-03f6-41ca-b061-73b3ef0b08a0",
   "metadata": {},
   "outputs": [],
   "source": [
    "import json\n",
    "import datasets\n",
    "\n",
    "ento_dataset = datasets.load_dataset(\"datastax/entomology\")[\"train\"]\n",
    "\n",
    "def _shorten(dct): return {k: v if len(v) < 60 else v[:60]+\"...\" for k, v in dct.items()}\n",
    "\n",
    "print(f\"Loaded {len(ento_dataset)} entries\")"
   ]
  },
  {
   "cell_type": "code",
   "execution_count": null,
   "id": "08789bbe-a6bd-4151-93ad-2fa9cc21877e",
   "metadata": {},
   "outputs": [],
   "source": [
    "species0 = ento_dataset[0]\n",
    "\n",
    "print(\"Example entry:\")\n",
    "print(\"\\n\".join(\n",
    "    f\"    {l}\" for l in json.dumps(_shorten(species0), indent=4).split(\"\\n\")\n",
    "))"
   ]
  },
  {
   "cell_type": "markdown",
   "id": "7457c474-4942-408b-b9da-e4b9014a42bb",
   "metadata": {},
   "source": [
    "#### Write a row (with its vector)"
   ]
  },
  {
   "cell_type": "code",
   "execution_count": null,
   "id": "967682d8-857d-4d05-be66-ffe9ef749395",
   "metadata": {},
   "outputs": [],
   "source": [
    "# This is a 1536-float array:\n",
    "emb_vector0 = openai_client.embeddings.create(\n",
    "    input=[species0[\"description\"]],\n",
    "    model=embedding_model_name,\n",
    ").data[0].embedding\n",
    "\n",
    "cassio_v_store.put(\n",
    "    row_id=species0[\"id\"],\n",
    "    body_blob=species0[\"description\"],\n",
    "    vector=emb_vector0,\n",
    "    metadata={\"name\": species0[\"name\"], \"order\": species0[\"order\"]},\n",
    ")"
   ]
  },
  {
   "cell_type": "markdown",
   "id": "6b002c6c-0674-48d2-9888-110da1fbd1c3",
   "metadata": {},
   "source": [
    "## Write all remaining rows"
   ]
  },
  {
   "cell_type": "code",
   "execution_count": null,
   "id": "ba2d0379-9167-4a3b-9fcf-f0443713635f",
   "metadata": {},
   "outputs": [],
   "source": [
    "ids1 = ento_dataset[\"id\"][1:]\n",
    "descriptions1 = ento_dataset[\"description\"][1:]\n",
    "names1 = ento_dataset[\"name\"][1:]\n",
    "orders1 = ento_dataset[\"order\"][1:]\n",
    "\n",
    "embs1 = openai_client.embeddings.create(\n",
    "    input=descriptions1,\n",
    "    model=embedding_model_name,\n",
    ").data"
   ]
  },
  {
   "cell_type": "code",
   "execution_count": null,
   "id": "d36927c9-9a07-4dfe-b40f-58f30c21c68b",
   "metadata": {},
   "outputs": [],
   "source": [
    "futures = [\n",
    "    cassio_v_store.put_async(\n",
    "        row_id=ids1[species_i],\n",
    "        body_blob=descriptions1[species_i],\n",
    "        vector=emb.embedding,\n",
    "        metadata={\"name\": names1[species_i], \"order\": orders1[species_i]},\n",
    "    )\n",
    "    for species_i, emb in enumerate(embs1)\n",
    "]\n",
    "\n",
    "for future in futures:\n",
    "    _ = future.result()"
   ]
  },
  {
   "cell_type": "markdown",
   "id": "f95807f4-f6dc-4567-8c19-01a74a8ec164",
   "metadata": {},
   "source": [
    "## 4. Vector search"
   ]
  },
  {
   "cell_type": "code",
   "execution_count": null,
   "id": "88b111cb-5ac8-4732-af53-2d3e6c91c3e6",
   "metadata": {},
   "outputs": [],
   "source": [
    "query = \"There was a dragonfly with fire-red wings in the woods\"\n",
    "\n",
    "query_vector = openai_client.embeddings.create(\n",
    "    input=query,\n",
    "    model=embedding_model_name,\n",
    ").data[0].embedding\n",
    "\n",
    "results = cassio_v_store.metric_ann_search(query_vector, n=6, metric=\"cos\")\n",
    "\n",
    "for res in results:\n",
    "    print(f\"[{res['distance']:.3f}] {res['metadata']['name']} ({res['metadata']['order']})\\n        ==> '{res['body_blob'][:60]}...'\\n\")"
   ]
  },
  {
   "cell_type": "markdown",
   "id": "2c8a1f1d-99ea-4714-84e0-9bf2ff9a7865",
   "metadata": {},
   "source": [
    "#### Metadata filtering"
   ]
  },
  {
   "cell_type": "code",
   "execution_count": null,
   "id": "edc12d20-dbbb-4332-94e4-3597a592faa1",
   "metadata": {},
   "outputs": [],
   "source": [
    "query = \"Behold: blue beetley bug boldly buzzing!\"\n",
    "\n",
    "query_vector = openai_client.embeddings.create(\n",
    "    input=query,\n",
    "    model=embedding_model_name,\n",
    ").data[0].embedding\n",
    "\n",
    "results = cassio_v_store.metric_ann_search(query_vector, n=3, metadata={\"order\": \"Coleoptera\"}, metric=\"cos\")\n",
    "\n",
    "for res in results:\n",
    "    print(f\"[{res['distance']:.3f}] {res['metadata']['name']} ({res['metadata']['order']})\\n        ==> '{res['body_blob'][:60]}...'\\n\")"
   ]
  },
  {
   "cell_type": "markdown",
   "id": "af7e8f70-65a5-4099-9627-65c92f9d58f2",
   "metadata": {},
   "source": [
    "## 5. RAG, aka 'field entomologist AI-assisted aide'"
   ]
  },
  {
   "cell_type": "code",
   "execution_count": null,
   "id": "7874fee9-8e1a-407b-ac94-aaed8c770b1b",
   "metadata": {},
   "outputs": [],
   "source": [
    "completion_model_name = \"gpt-3.5-turbo\"\n",
    "\n",
    "PROMPT_TEMPLATE = \"\"\"You are an expert entomologist tasked with helping specimen identification on the field.\n",
    "You are given relevant excerpts from an invertebrate textbook along with my field observation.\n",
    "Your task is to compare my observation with the textbook excerpts and come to an identification,\n",
    "explaining why you came to that conclusion and giving the degree of certainity.\n",
    "Only use the information provided in the user observation to come to your conclusion!\n",
    "Be sure to provide, in your verdict, the species' Order together with the full Latin name.\n",
    "KEEP IT SHORT!!!\n",
    "\n",
    "USER OBSERVATION: {observation}\n",
    "\n",
    "TEXTBOOK CANDIDATE MATCHES:\n",
    "{candidates}\n",
    "\n",
    "YOUR EXPLAINED IDENTIFICATION:\"\"\""
   ]
  },
  {
   "cell_type": "code",
   "execution_count": null,
   "id": "7c91300d-c83f-4991-81a7-d6cd031f7814",
   "metadata": {},
   "outputs": [],
   "source": [
    "def suggest_observed_species(observation, order=None, n=3, debug=False):\n",
    "    query_vector = openai_client.embeddings.create(input=observation, model=embedding_model_name).data[0].embedding\n",
    "    if order is not None:\n",
    "        metadata = {\"order\": order}\n",
    "    else:\n",
    "        metadata = {}\n",
    "    #\n",
    "    matches = cassio_v_store.metric_ann_search(query_vector, n=n, metadata=metadata, metric=\"cos\")\n",
    "    #\n",
    "    prompt = PROMPT_TEMPLATE.format(\n",
    "        observation=observation,\n",
    "        candidates=\"\\n\".join([\n",
    "            f\"\"\"Candidate species {i+1}: '{doc['metadata']['name']}' (order: {doc['metadata']['order']})\n",
    "            Description: {doc['body_blob']}\\n\"\"\"\n",
    "            for i, doc in enumerate(matches)\n",
    "        ]),\n",
    "    )\n",
    "    #\n",
    "    if debug:\n",
    "        print('-' * 60)\n",
    "        print('PROMPT:')\n",
    "        print(prompt)\n",
    "        print('-' * 60)\n",
    "    #\n",
    "    response = openai_client.chat.completions.create(\n",
    "        model=completion_model_name,\n",
    "        messages=[{\"role\": \"user\", \"content\": prompt}],\n",
    "        temperature=0.7,\n",
    "        max_tokens=320,\n",
    "    )\n",
    "    return response.choices[0].message.content.replace('\"', '').strip()"
   ]
  },
  {
   "cell_type": "code",
   "execution_count": null,
   "id": "cd6c019a-775a-4ae6-b9a5-c04cbd7bcb2a",
   "metadata": {},
   "outputs": [],
   "source": [
    "print(suggest_observed_species(\"\"\"\n",
    "    I found an elongated brown bug with small wings,\n",
    "    dark elitra and sturdy antennae in a meadow.\n",
    "\"\"\"))"
   ]
  },
  {
   "cell_type": "code",
   "execution_count": null,
   "id": "2500fd42-6f9b-4e8b-a4d4-a78ec5562355",
   "metadata": {},
   "outputs": [],
   "source": [
    "print(suggest_observed_species(\"\"\"\n",
    "    What looked like a leaf was in fact moving! It startled me greatly.\n",
    "    But I'm not sure it's an insect, I did not see antennae. What was it?\n",
    "\"\"\"))"
   ]
  },
  {
   "cell_type": "code",
   "execution_count": null,
   "id": "1fe2a286-9aee-46cd-acae-b4749c9248ea",
   "metadata": {},
   "outputs": [],
   "source": [
    "print(suggest_observed_species(\n",
    "    \"There was a large butterfly with erratic flight, but I could not glimpse the wing pattern clearly\",\n",
    "    order=\"Lepidoptera\",\n",
    "    debug=True,\n",
    "))"
   ]
  },
  {
   "cell_type": "markdown",
   "id": "dd1136e2-2e25-4949-94df-342243e8eb51",
   "metadata": {},
   "source": [
    "## 6. Cleanup"
   ]
  },
  {
   "cell_type": "code",
   "execution_count": null,
   "id": "3cdb4ae2-db13-49a2-8dec-17f82c7daa71",
   "metadata": {},
   "outputs": [],
   "source": [
    "c_session = cassio.config.resolve_session()\n",
    "c_keyspace = cassio.config.resolve_keyspace()\n",
    "\n",
    "c_session.execute(f\"DROP TABLE IF EXISTS {c_keyspace}.cassio_demo;\")"
   ]
  }
 ],
 "metadata": {
  "kernelspec": {
   "display_name": "Python 3 (ipykernel)",
   "language": "python",
   "name": "python3"
  },
  "language_info": {
   "codemirror_mode": {
    "name": "ipython",
    "version": 3
   },
   "file_extension": ".py",
   "mimetype": "text/x-python",
   "name": "python",
   "nbconvert_exporter": "python",
   "pygments_lexer": "ipython3",
   "version": "3.9.17"
  }
 },
 "nbformat": 4,
 "nbformat_minor": 5
}
